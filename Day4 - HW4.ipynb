{
  "cells": [
    {
      "cell_type": "markdown",
      "metadata": {
        "id": "view-in-github",
        "colab_type": "text"
      },
      "source": [
        "<a href=\"https://colab.research.google.com/github/seonjhang/POSCO-AI-BigData-Academy/blob/main/Day4%20-%20HW4.ipynb\" target=\"_parent\"><img src=\"https://colab.research.google.com/assets/colab-badge.svg\" alt=\"Open In Colab\"/></a>"
      ]
    },
    {
      "cell_type": "markdown",
      "id": "cc791cc9",
      "metadata": {
        "id": "cc791cc9"
      },
      "source": [
        "# 파이썬 프로그래밍 기초 실습4"
      ]
    },
    {
      "cell_type": "markdown",
      "id": "d0c29083",
      "metadata": {
        "id": "d0c29083"
      },
      "source": [
        "### 1. 파일"
      ]
    },
    {
      "cell_type": "markdown",
      "id": "ba981830",
      "metadata": {
        "id": "ba981830"
      },
      "source": [
        "#### 실습1) - PPT 자료"
      ]
    },
    {
      "cell_type": "code",
      "execution_count": null,
      "id": "d50f74fd",
      "metadata": {
        "id": "d50f74fd",
        "outputId": "a3bae037-7ec4-439f-a79b-689409e96251"
      },
      "outputs": [
        {
          "name": "stdout",
          "output_type": "stream",
          "text": [
            "line 3\n",
            "first 1\n",
            "second 1\n",
            "thrid 1\n"
          ]
        }
      ],
      "source": [
        "f1 = open(\"test.txt\", \"r\")\n",
        "line = f1.read()\n",
        "line = line.split()\n",
        "d = dict()\n",
        "for i in line:\n",
        "    if i in d.keys():\n",
        "        d[i] += 1\n",
        "    else:\n",
        "        d[i] = 1\n",
        "\n",
        "d = sorted(d.items(),key=lambda x : x[1], reverse = True)\n",
        "for item in d:\n",
        "    k, v = item\n",
        "    print(k,v)\n",
        "\n",
        "\n",
        "\n",
        "f1.close()"
      ]
    },
    {
      "cell_type": "markdown",
      "id": "c4a9b487",
      "metadata": {
        "id": "c4a9b487"
      },
      "source": [
        "#### 실습2) - PPT 자료"
      ]
    },
    {
      "cell_type": "code",
      "execution_count": null,
      "id": "47e46f5a",
      "metadata": {
        "id": "47e46f5a",
        "outputId": "89155a4a-cb89-446a-9d3b-cd526822993f"
      },
      "outputs": [
        {
          "name": "stdout",
          "output_type": "stream",
          "text": [
            "Enter a file name: test.txt\n",
            "FIRST LINE\n",
            "SECOND LINE\n",
            "THRID LINE "
          ]
        }
      ],
      "source": [
        "import os\n",
        "\n",
        "file = input(\"Enter a file name: \")\n",
        "\n",
        "if os.path.exists(file) == True:\n",
        "    f2 = open(file, \"r\")\n",
        "    lines = f2.read().upper()\n",
        "    print(lines, end=\" \")\n",
        "    f2.close()    \n",
        "\n",
        "else: \n",
        "    print(\"파일이 존재하지 않는다\")"
      ]
    },
    {
      "cell_type": "markdown",
      "id": "fb8f191e",
      "metadata": {
        "id": "fb8f191e"
      },
      "source": [
        "#### 실습3)"
      ]
    },
    {
      "cell_type": "code",
      "execution_count": null,
      "id": "bf96d752",
      "metadata": {
        "id": "bf96d752"
      },
      "outputs": [],
      "source": [
        ""
      ]
    },
    {
      "cell_type": "markdown",
      "id": "fc5f34b7",
      "metadata": {
        "id": "fc5f34b7"
      },
      "source": [
        "#### 실습4)"
      ]
    },
    {
      "cell_type": "code",
      "execution_count": null,
      "id": "0c4fda14",
      "metadata": {
        "id": "0c4fda14"
      },
      "outputs": [],
      "source": [
        "with open('score.txt', 'r') as s, open('report.txt', 'w') as r:\n",
        "    lines = s.readlines()\n",
        "    for i in lines:\n",
        "        a, b, c = map(int, i.split(' '))\n",
        "        total = (b*0.4 + c*0.6)\n",
        "        if total >= 90:\n",
        "            e = \"(A)\"\n",
        "        elif 80 <= total < 90:\n",
        "            e = \"(B)\"\n",
        "        elif 70 <= total < 80:\n",
        "            e = \"(C)\"\n",
        "        elif 60 <= total <70:\n",
        "            e = \"(D)\"\n",
        "        else:\n",
        "            e = \"(F)\"\n",
        "        data = '{} {} {}  {}{}\\n'.format(a,b,c,total,e)\n",
        "\n",
        "        r.write(data)        "
      ]
    }
  ],
  "metadata": {
    "kernelspec": {
      "display_name": "Python 3",
      "language": "python",
      "name": "python3"
    },
    "language_info": {
      "codemirror_mode": {
        "name": "ipython",
        "version": 3
      },
      "file_extension": ".py",
      "mimetype": "text/x-python",
      "name": "python",
      "nbconvert_exporter": "python",
      "pygments_lexer": "ipython3",
      "version": "3.8.8"
    },
    "colab": {
      "name": "HW4.ipynb",
      "provenance": [],
      "include_colab_link": true
    }
  },
  "nbformat": 4,
  "nbformat_minor": 5
}