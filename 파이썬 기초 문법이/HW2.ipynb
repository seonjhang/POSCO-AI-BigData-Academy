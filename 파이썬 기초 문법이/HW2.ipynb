{
  "cells": [
    {
      "cell_type": "markdown",
      "metadata": {
        "id": "view-in-github",
        "colab_type": "text"
      },
      "source": [
        "<a href=\"https://colab.research.google.com/github/seonjhang/POSCO-AI-BigData-Academy/blob/main/HW2.ipynb\" target=\"_parent\"><img src=\"https://colab.research.google.com/assets/colab-badge.svg\" alt=\"Open In Colab\"/></a>"
      ]
    },
    {
      "cell_type": "markdown",
      "id": "1c2957eb",
      "metadata": {
        "id": "1c2957eb"
      },
      "source": [
        "# 파이썬 프로그래밍 기초 실습 2"
      ]
    },
    {
      "cell_type": "markdown",
      "id": "94260a79",
      "metadata": {
        "id": "94260a79"
      },
      "source": [
        "### 1. 조건문(if)"
      ]
    },
    {
      "cell_type": "markdown",
      "id": "fe920f79",
      "metadata": {
        "id": "fe920f79"
      },
      "source": [
        "#### (문제1) 입력 받은 정수가 짝수인지 홀수인지 판별"
      ]
    },
    {
      "cell_type": "code",
      "execution_count": 8,
      "id": "77b9473b",
      "metadata": {
        "colab": {
          "base_uri": "https://localhost:8080/"
        },
        "id": "77b9473b",
        "outputId": "fc2e5eaf-4850-4f00-fb07-b4e6256cae9e"
      },
      "outputs": [
        {
          "output_type": "stream",
          "name": "stdout",
          "text": [
            "Enter a number: 7\n",
            "7 is Odd number\n"
          ]
        }
      ],
      "source": [
        "num = input(\"Enter a number: \")\n",
        "num = int(num)\n",
        "if num %2 == 0 :\n",
        "    print(\"%d is Even number\" % num)\n",
        "else :\n",
        "    print(\"%d is Odd number\" % num)"
      ]
    },
    {
      "cell_type": "code",
      "execution_count": 9,
      "id": "1ae88e0f",
      "metadata": {
        "colab": {
          "base_uri": "https://localhost:8080/"
        },
        "id": "1ae88e0f",
        "outputId": "1ee555e3-2273-4daa-964d-b66400bc6883"
      },
      "outputs": [
        {
          "output_type": "stream",
          "name": "stdout",
          "text": [
            "Enter a number: 14\n",
            "14 is Even number\n"
          ]
        }
      ],
      "source": [
        "num = input(\"Enter a number: \")\n",
        "num = int(num)\n",
        "if num %2 == 0 :\n",
        "    print(\"%d is Even number\" % num)\n",
        "else :\n",
        "    print(\"%d is Odd number\" % num)"
      ]
    },
    {
      "cell_type": "markdown",
      "id": "f22e588b",
      "metadata": {
        "id": "f22e588b"
      },
      "source": [
        "#### (문제2) \n",
        "프로그래밍 과목의 중간고사와 기말고사 점수를 입력 받아 평균과 학점을 구하는 프로그램을 작성하시오."
      ]
    },
    {
      "cell_type": "code",
      "execution_count": 10,
      "id": "48cffafe",
      "metadata": {
        "colab": {
          "base_uri": "https://localhost:8080/"
        },
        "id": "48cffafe",
        "outputId": "11ef5e8c-6edf-4c94-d7aa-8c85afc819a6"
      },
      "outputs": [
        {
          "output_type": "stream",
          "name": "stdout",
          "text": [
            "Enter your midterm score: 77\n",
            "Enter your final score: 56\n",
            "Average:  66.5\n",
            "Grade: D\n"
          ]
        }
      ],
      "source": [
        "mid = int(input(\"Enter your midterm score: \"))\n",
        "fin = int(input(\"Enter your final score: \"))\n",
        "\n",
        "avg = (mid + fin) / 2\n",
        "print(\"Average: \",avg)\n",
        "\n",
        "if avg >= 90:\n",
        "    print(\"Grade: A\")\n",
        "elif 80 <= avg < 90 :\n",
        "    print(\"Grade: B\")\n",
        "elif 70 <= avg < 80 :\n",
        "    print(\"Grade: C\")\n",
        "elif 60 <= avg < 70 :\n",
        "    print(\"Grade: D\")\n",
        "else :\n",
        "    print(\"Grade: F\")"
      ]
    },
    {
      "cell_type": "markdown",
      "id": "8f70f4a2",
      "metadata": {
        "id": "8f70f4a2"
      },
      "source": [
        "#### (문제3) \n",
        "학생수준평가 시험에서 영어 점수와 수학 점수가 합해서 110점 이상이면 합격이다. 단, 각 점수가 40점 미만이면 불합격이다. 영어(eng), 수학(math)점수를 입력 받아 합격여부를 출력하는 프로그램을 작성하시오."
      ]
    },
    {
      "cell_type": "code",
      "execution_count": 11,
      "id": "8eb10c77",
      "metadata": {
        "id": "8eb10c77",
        "colab": {
          "base_uri": "https://localhost:8080/"
        },
        "outputId": "f8344a40-9cc8-4650-b67a-d96e5b2f6dd4"
      },
      "outputs": [
        {
          "output_type": "stream",
          "name": "stdout",
          "text": [
            "영어 점수 입력: 80\n",
            "수학 점수 입력: 20\n",
            "불합격: 총합 점수 부족\n"
          ]
        }
      ],
      "source": [
        "eng = int(input(\"영어 점수 입력: \"))\n",
        "math = int(input(\"수학 점수 입력: \"))\n",
        "_sum = eng + math\n",
        "\n",
        "if _sum < 110 :\n",
        "    print(\"불합격: 총합 점수 부족\")\n",
        "elif eng < 40 :\n",
        "    print(\"불합격: 영어 점수 부족\")\n",
        "elif math < 40 :\n",
        "    print(\"불합격: 수학 점수 부족\")\n",
        "else :\n",
        "    print(\"합격\")"
      ]
    },
    {
      "cell_type": "code",
      "execution_count": 13,
      "id": "3ca3d210",
      "metadata": {
        "id": "3ca3d210",
        "colab": {
          "base_uri": "https://localhost:8080/"
        },
        "outputId": "77b0d2a1-4bd9-47d7-d293-eac84a8582c3"
      },
      "outputs": [
        {
          "output_type": "stream",
          "name": "stdout",
          "text": [
            "영어 점수 입력: 90\n",
            "수학 점수 입력: 30\n",
            "불합격: 수학 점수 부족\n"
          ]
        }
      ],
      "source": [
        "eng = int(input(\"영어 점수 입력: \"))\n",
        "math = int(input(\"수학 점수 입력: \"))\n",
        "_sum = eng + math\n",
        "\n",
        "if _sum < 110 :\n",
        "    print(\"불합격: 총합 점수 부족\")\n",
        "elif eng < 40 :\n",
        "    print(\"불합격: 영어 점수 부족\")\n",
        "elif math < 40 :\n",
        "    print(\"불합격: 수학 점수 부족\")\n",
        "else :\n",
        "    print(\"합격\")"
      ]
    },
    {
      "cell_type": "code",
      "execution_count": 15,
      "id": "b6d47896",
      "metadata": {
        "id": "b6d47896",
        "colab": {
          "base_uri": "https://localhost:8080/"
        },
        "outputId": "82776efc-cada-4574-80f1-baf6aca2c3da"
      },
      "outputs": [
        {
          "output_type": "stream",
          "name": "stdout",
          "text": [
            "영어 점수 입력: 70\n",
            "수학 점수 입력: 80\n",
            "합격\n"
          ]
        }
      ],
      "source": [
        "eng = int(input(\"영어 점수 입력: \"))\n",
        "math = int(input(\"수학 점수 입력: \"))\n",
        "_sum = eng + math\n",
        "\n",
        "if _sum < 110 :\n",
        "    print(\"불합격): 총합 점수 부족\")\n",
        "elif eng < 40 :\n",
        "    print(\"불합격: 영어 점수 부족\")\n",
        "elif math < 40 :\n",
        "    print(\"불합격: 수학 점수 부족\")\n",
        "else :\n",
        "    print(\"합격\")"
      ]
    },
    {
      "cell_type": "code",
      "execution_count": 16,
      "id": "03a6503e",
      "metadata": {
        "id": "03a6503e",
        "colab": {
          "base_uri": "https://localhost:8080/"
        },
        "outputId": "25cea40b-7636-41d8-9469-696ce61fcb26"
      },
      "outputs": [
        {
          "output_type": "stream",
          "name": "stdout",
          "text": [
            "영어 점수 입력: 35\n",
            "수학 점수 입력: 30\n",
            "불합격: 총합 점수 부족\n"
          ]
        }
      ],
      "source": [
        "eng = int(input(\"영어 점수 입력: \"))\n",
        "math = int(input(\"수학 점수 입력: \"))\n",
        "_sum = eng + math\n",
        "\n",
        "if _sum < 110 :\n",
        "    print(\"불합격: 총합 점수 부족\")\n",
        "elif eng < 40 :\n",
        "    print(\"불합격: 영어 점수 부족\")\n",
        "elif math < 40 :\n",
        "    print(\"불합격: 수학 점수 부족\")\n",
        "else :\n",
        "    print(\"합격\")"
      ]
    },
    {
      "cell_type": "code",
      "execution_count": 17,
      "id": "d09c112e",
      "metadata": {
        "id": "d09c112e",
        "colab": {
          "base_uri": "https://localhost:8080/"
        },
        "outputId": "260912de-8af5-4e55-96c0-40bf27da33c4"
      },
      "outputs": [
        {
          "output_type": "stream",
          "name": "stdout",
          "text": [
            "영어 점수 입력: 35\n",
            "수학 점수 입력: 95\n",
            "불합격: 영어 점수 부족\n"
          ]
        }
      ],
      "source": [
        "eng = int(input(\"영어 점수 입력: \"))\n",
        "math = int(input(\"수학 점수 입력: \"))\n",
        "_sum = eng + math\n",
        "\n",
        "if _sum < 110 :\n",
        "    print(\"불합격: 총합 점수 부족\")\n",
        "elif eng < 40 :\n",
        "    print(\"불합격: 영어 점수 부족\")\n",
        "elif math < 40 :\n",
        "    print(\"불합격: 수학 점수 부족\")\n",
        "else :\n",
        "    print(\"합격\")"
      ]
    },
    {
      "cell_type": "markdown",
      "id": "079ca909",
      "metadata": {
        "id": "079ca909"
      },
      "source": [
        "#### (문제4) PPT 문제\n",
        "세 개의 정수를 입력 받아, 가장 큰 수만 출력하는 프로그램을 작성하시오. (max 함수 이용하지 않고 구할 것)"
      ]
    },
    {
      "cell_type": "code",
      "execution_count": 18,
      "id": "9cb89e0c",
      "metadata": {
        "id": "9cb89e0c",
        "colab": {
          "base_uri": "https://localhost:8080/"
        },
        "outputId": "2953d2b5-4aad-4c3a-bd6e-779a35d79301"
      },
      "outputs": [
        {
          "output_type": "stream",
          "name": "stdout",
          "text": [
            "세 개의 수를 입력하시오: 30 22 50\n",
            "가장 큰 수는 50입니다.\n"
          ]
        }
      ],
      "source": [
        "a, b, c = input(\"세 개의 수를 입력하시오: \").split()\n",
        "\n",
        "if a > b :\n",
        "    if a > c :\n",
        "        print(\"가장 큰 수는 %s입니다.\" %a)\n",
        "    elif c > a :\n",
        "        print(\"가장 큰 수는 %s입니다.\" %c)\n",
        "elif b > c :\n",
        "    print(\"가장 큰 수는 %s입니다.\" %b)\n",
        "else :\n",
        "    print(\"가장 큰 수는 %s입니다.\" %c)"
      ]
    },
    {
      "cell_type": "markdown",
      "id": "6cbcd7c3",
      "metadata": {
        "id": "6cbcd7c3"
      },
      "source": [
        "### 2. 반복문"
      ]
    },
    {
      "cell_type": "markdown",
      "id": "b488d8df",
      "metadata": {
        "id": "b488d8df"
      },
      "source": [
        "#### (문제1)\n",
        "단어(문자열)가 주어질 때, 아래와 같이 출력되도록 작성하시오."
      ]
    },
    {
      "cell_type": "code",
      "execution_count": 19,
      "id": "e11544ec",
      "metadata": {
        "id": "e11544ec",
        "colab": {
          "base_uri": "https://localhost:8080/"
        },
        "outputId": "85657e68-6a58-4946-c438-6ba5ba0f0e17"
      },
      "outputs": [
        {
          "output_type": "stream",
          "name": "stdout",
          "text": [
            "P\n",
            "y\n",
            "t\n",
            "h\n",
            "o\n",
            "n\n"
          ]
        }
      ],
      "source": [
        "word = 'Python'\n",
        "i = 0\n",
        "while i < len(word) :\n",
        "    print(word[i])\n",
        "    i += 1"
      ]
    },
    {
      "cell_type": "markdown",
      "id": "c4a6daed",
      "metadata": {
        "id": "c4a6daed"
      },
      "source": [
        "#### (문제2)\n",
        "for 문을 이용하여 작성 (문자열)"
      ]
    },
    {
      "cell_type": "code",
      "execution_count": 20,
      "id": "f8d6d504",
      "metadata": {
        "id": "f8d6d504",
        "colab": {
          "base_uri": "https://localhost:8080/"
        },
        "outputId": "ebce9985-dbc0-4fec-c909-0d27bb85f882"
      },
      "outputs": [
        {
          "output_type": "stream",
          "name": "stdout",
          "text": [
            "P\n",
            "y\n",
            "t\n",
            "h\n",
            "o\n",
            "n\n"
          ]
        }
      ],
      "source": [
        "word = 'Python'\n",
        "for i in word :\n",
        "    print(i)"
      ]
    },
    {
      "cell_type": "markdown",
      "id": "b69bdf6e",
      "metadata": {
        "id": "b69bdf6e"
      },
      "source": [
        "#### (문제2)\n",
        "아래와 같이 출력되는 프로그램을 작성하시오."
      ]
    },
    {
      "cell_type": "code",
      "execution_count": 21,
      "id": "7667d7ef",
      "metadata": {
        "id": "7667d7ef",
        "colab": {
          "base_uri": "https://localhost:8080/"
        },
        "outputId": "3ffd7c6e-8fe5-4e09-9b1e-b8808e17514f"
      },
      "outputs": [
        {
          "output_type": "stream",
          "name": "stdout",
          "text": [
            "10,9,8,7,6,5,4,3,2,1,Happy new year!!\n"
          ]
        }
      ],
      "source": [
        "for n in range(10,0,-1) :\n",
        "    print(n, end=',')\n",
        "print(\"Happy new year!!\")"
      ]
    },
    {
      "cell_type": "markdown",
      "id": "f9387f9c",
      "metadata": {
        "id": "f9387f9c"
      },
      "source": [
        "#### (문제3)\n",
        "양의 두 정리 a,b를 입력 받아, a부터 b까지의 정수의 합을 구하여 출력하는 프로그램을 작성하시오. (for 또는 while을 이용할 것)\n",
        "단, 조건 a <= b 을 만족하는 값만 고려한다."
      ]
    },
    {
      "cell_type": "code",
      "execution_count": 22,
      "id": "e81ad7ff",
      "metadata": {
        "id": "e81ad7ff",
        "colab": {
          "base_uri": "https://localhost:8080/"
        },
        "outputId": "95565e69-9f40-4d23-e970-0fbf6c980ed4"
      },
      "outputs": [
        {
          "output_type": "stream",
          "name": "stdout",
          "text": [
            "Enter two integers: 5 10\n",
            "The sum from 5 to 10 is 45\n"
          ]
        }
      ],
      "source": [
        "nums = input(\"Enter two integers: \").split(' ')\n",
        "a, b = nums\n",
        "a = int(a)\n",
        "b = int(b)\n",
        "\n",
        "_sum = a\n",
        "total = 0\n",
        "while _sum <= b :\n",
        "    total += _sum\n",
        "    _sum += 1\n",
        "print(\"The sum from %d to %d is %d\" % (a,b,total))"
      ]
    },
    {
      "cell_type": "markdown",
      "id": "1636397c",
      "metadata": {
        "id": "1636397c"
      },
      "source": [
        "#### (문제4)\n",
        "주어진 문자열에 문자a가 몇 개 읶는지 구하는 프로그램을 작성하시오. (for문 사요할 것)"
      ]
    },
    {
      "cell_type": "code",
      "execution_count": 23,
      "id": "e6adc972",
      "metadata": {
        "id": "e6adc972",
        "colab": {
          "base_uri": "https://localhost:8080/"
        },
        "outputId": "e91b99e0-e7bf-4aa1-e9f4-7da20246a206"
      },
      "outputs": [
        {
          "output_type": "stream",
          "name": "stdout",
          "text": [
            "3\n"
          ]
        }
      ],
      "source": [
        "word = 'banana'\n",
        "word = list(word)\n",
        "\n",
        "n = 0\n",
        "_sum = 0\n",
        "for i in word :\n",
        "    if i == 'a' :\n",
        "        _sum += 1\n",
        "        n += 1\n",
        "print(_sum)"
      ]
    },
    {
      "cell_type": "markdown",
      "id": "4716a5f0",
      "metadata": {
        "id": "4716a5f0"
      },
      "source": [
        "#### (문제5)\n",
        "for 문과 range()함수를 이용하여 다음과 같이 출력되도록 작성하시오."
      ]
    },
    {
      "cell_type": "code",
      "execution_count": 24,
      "id": "d20834d2",
      "metadata": {
        "id": "d20834d2",
        "colab": {
          "base_uri": "https://localhost:8080/"
        },
        "outputId": "29a6df4b-a3a2-4822-8e99-94b3e9bddba4"
      },
      "outputs": [
        {
          "output_type": "stream",
          "name": "stdout",
          "text": [
            "0 1 2 3 4 5 6 7 8 9 "
          ]
        }
      ],
      "source": [
        "for i in range(0,10) :\n",
        "    print(i, end=' ')"
      ]
    },
    {
      "cell_type": "code",
      "execution_count": 25,
      "id": "5eebe94c",
      "metadata": {
        "id": "5eebe94c",
        "colab": {
          "base_uri": "https://localhost:8080/"
        },
        "outputId": "0bc8ad94-31f8-4938-a18b-b8698b21b0be"
      },
      "outputs": [
        {
          "output_type": "stream",
          "name": "stdout",
          "text": [
            "0 5 10 15 20 25 30 35 40 45 50 "
          ]
        }
      ],
      "source": [
        "for i in range(0,51,5) :\n",
        "    print(i, end=' ')"
      ]
    },
    {
      "cell_type": "code",
      "execution_count": 26,
      "id": "204533dc",
      "metadata": {
        "id": "204533dc",
        "colab": {
          "base_uri": "https://localhost:8080/"
        },
        "outputId": "6be5ed7e-f74c-4f16-f36b-50385c2877e2"
      },
      "outputs": [
        {
          "output_type": "stream",
          "name": "stdout",
          "text": [
            "10 9 8 7 6 5 4 3 2 1 "
          ]
        }
      ],
      "source": [
        "for i in range(10,0,-1) :\n",
        "    print(i, end=' ')"
      ]
    },
    {
      "cell_type": "markdown",
      "id": "f1d69262",
      "metadata": {
        "id": "f1d69262"
      },
      "source": [
        "#### (문제 6)\n",
        "for 문을 사용하여 리스트(colors)의 모든 내용을 출력하시오. (단, range()를 이용하지 않는다.)"
      ]
    },
    {
      "cell_type": "code",
      "execution_count": 27,
      "id": "65f85bb8",
      "metadata": {
        "id": "65f85bb8",
        "colab": {
          "base_uri": "https://localhost:8080/"
        },
        "outputId": "715fb9d2-627e-4e25-ced8-ad9e892b1412"
      },
      "outputs": [
        {
          "output_type": "stream",
          "name": "stdout",
          "text": [
            "red\n",
            "green\n",
            "blue\n"
          ]
        }
      ],
      "source": [
        "colors = [\"red\", \"green\", 'blue']\n",
        "for i in colors :\n",
        "    print(i)"
      ]
    },
    {
      "cell_type": "markdown",
      "id": "805e6152",
      "metadata": {
        "id": "805e6152"
      },
      "source": [
        "#### (문제 7)\n",
        "리스트 a 전체를 반복해서 방문하되, 짝수만 출력하시오.(for 문 사용)"
      ]
    },
    {
      "cell_type": "code",
      "execution_count": 28,
      "id": "87af7cc4",
      "metadata": {
        "id": "87af7cc4",
        "colab": {
          "base_uri": "https://localhost:8080/"
        },
        "outputId": "7ba6347b-20c4-4f0c-fb36-3e4a66177f37"
      },
      "outputs": [
        {
          "output_type": "stream",
          "name": "stdout",
          "text": [
            "4 6 8 10 12 "
          ]
        }
      ],
      "source": [
        "a = [1,3,4,5,6,7,8,9,10,11,12,13]\n",
        "for i in a :\n",
        "    if i % 2 == 0 :\n",
        "        print(i, end=' ')"
      ]
    },
    {
      "cell_type": "markdown",
      "id": "65e547e0",
      "metadata": {
        "id": "65e547e0"
      },
      "source": [
        "#### (문제 8)\n",
        "구구단 출력1"
      ]
    },
    {
      "cell_type": "code",
      "execution_count": 29,
      "id": "3278e664",
      "metadata": {
        "id": "3278e664",
        "colab": {
          "base_uri": "https://localhost:8080/"
        },
        "outputId": "bf788aeb-0187-436f-e380-1914c1423172"
      },
      "outputs": [
        {
          "output_type": "stream",
          "name": "stdout",
          "text": [
            "출력하고 싶은 단을 입력하세요: 7\n",
            "7 * 1 =  7\n",
            "7 * 2 = 14\n",
            "7 * 3 = 21\n",
            "7 * 4 = 28\n",
            "7 * 5 = 35\n",
            "7 * 6 = 42\n",
            "7 * 7 = 49\n",
            "7 * 8 = 56\n",
            "7 * 9 = 63\n"
          ]
        }
      ],
      "source": [
        "b = range(1,10)\n",
        "mul = int(input(\"출력하고 싶은 단을 입력하세요: \"))\n",
        "for i in b :\n",
        "    print(mul, \"*\", i, \"=\", str(mul * i).rjust(2))\n",
        "# 오른쪽 정렬 str(대상).rjust(n칸)"
      ]
    },
    {
      "cell_type": "markdown",
      "id": "e9740a99",
      "metadata": {
        "id": "e9740a99"
      },
      "source": [
        "#### (문제 9)\n",
        "구구단 출력2 (중첩 반복문)"
      ]
    },
    {
      "cell_type": "code",
      "execution_count": 30,
      "id": "4bf88f1c",
      "metadata": {
        "id": "4bf88f1c",
        "colab": {
          "base_uri": "https://localhost:8080/"
        },
        "outputId": "accab353-9875-4ff2-e66c-4834c29ffbe3"
      },
      "outputs": [
        {
          "output_type": "stream",
          "name": "stdout",
          "text": [
            "= = 2단 = =\n",
            "2 * 1 =  2\n",
            "2 * 2 =  4\n",
            "2 * 3 =  6\n",
            "2 * 4 =  8\n",
            "2 * 5 = 10\n",
            "2 * 6 = 12\n",
            "2 * 7 = 14\n",
            "2 * 8 = 16\n",
            "2 * 9 = 18\n",
            "= = 3단 = =\n",
            "3 * 1 =  3\n",
            "3 * 2 =  6\n",
            "3 * 3 =  9\n",
            "3 * 4 = 12\n",
            "3 * 5 = 15\n",
            "3 * 6 = 18\n",
            "3 * 7 = 21\n",
            "3 * 8 = 24\n",
            "3 * 9 = 27\n",
            "= = 4단 = =\n",
            "4 * 1 =  4\n",
            "4 * 2 =  8\n",
            "4 * 3 = 12\n",
            "4 * 4 = 16\n",
            "4 * 5 = 20\n",
            "4 * 6 = 24\n",
            "4 * 7 = 28\n",
            "4 * 8 = 32\n",
            "4 * 9 = 36\n",
            "= = 5단 = =\n",
            "5 * 1 =  5\n",
            "5 * 2 = 10\n",
            "5 * 3 = 15\n",
            "5 * 4 = 20\n",
            "5 * 5 = 25\n",
            "5 * 6 = 30\n",
            "5 * 7 = 35\n",
            "5 * 8 = 40\n",
            "5 * 9 = 45\n",
            "= = 6단 = =\n",
            "6 * 1 =  6\n",
            "6 * 2 = 12\n",
            "6 * 3 = 18\n",
            "6 * 4 = 24\n",
            "6 * 5 = 30\n",
            "6 * 6 = 36\n",
            "6 * 7 = 42\n",
            "6 * 8 = 48\n",
            "6 * 9 = 54\n",
            "= = 7단 = =\n",
            "7 * 1 =  7\n",
            "7 * 2 = 14\n",
            "7 * 3 = 21\n",
            "7 * 4 = 28\n",
            "7 * 5 = 35\n",
            "7 * 6 = 42\n",
            "7 * 7 = 49\n",
            "7 * 8 = 56\n",
            "7 * 9 = 63\n",
            "= = 8단 = =\n",
            "8 * 1 =  8\n",
            "8 * 2 = 16\n",
            "8 * 3 = 24\n",
            "8 * 4 = 32\n",
            "8 * 5 = 40\n",
            "8 * 6 = 48\n",
            "8 * 7 = 56\n",
            "8 * 8 = 64\n",
            "8 * 9 = 72\n",
            "= = 9단 = =\n",
            "9 * 1 =  9\n",
            "9 * 2 = 18\n",
            "9 * 3 = 27\n",
            "9 * 4 = 36\n",
            "9 * 5 = 45\n",
            "9 * 6 = 54\n",
            "9 * 7 = 63\n",
            "9 * 8 = 72\n",
            "9 * 9 = 81\n"
          ]
        }
      ],
      "source": [
        "a = range(2,10)\n",
        "b = range(1,10)\n",
        "for x in a :\n",
        "    print(\"= = %d단 = =\" %x)\n",
        "    for y in b :\n",
        "        print(x, \"*\", y, \"=\", str(x*y).rjust(2))"
      ]
    },
    {
      "cell_type": "markdown",
      "id": "7c0bcbeb",
      "metadata": {
        "id": "7c0bcbeb"
      },
      "source": [
        "#### (문제 10)"
      ]
    },
    {
      "cell_type": "code",
      "execution_count": 31,
      "id": "43da4137",
      "metadata": {
        "id": "43da4137",
        "colab": {
          "base_uri": "https://localhost:8080/"
        },
        "outputId": "473bf882-4b53-4b58-aa91-ce3b5ea539e3"
      },
      "outputs": [
        {
          "output_type": "stream",
          "name": "stdout",
          "text": [
            "2 * 1 =  2 3 * 1 =  3 4 * 1 =  4 5 * 1 =  5 6 * 1 =  6 7 * 1 =  7 8 * 1 =  8 9 * 1 =  9 \n",
            "2 * 2 =  4 3 * 2 =  6 4 * 2 =  8 5 * 2 = 10 6 * 2 = 12 7 * 2 = 14 8 * 2 = 16 9 * 2 = 18 \n",
            "2 * 3 =  6 3 * 3 =  9 4 * 3 = 12 5 * 3 = 15 6 * 3 = 18 7 * 3 = 21 8 * 3 = 24 9 * 3 = 27 \n",
            "2 * 4 =  8 3 * 4 = 12 4 * 4 = 16 5 * 4 = 20 6 * 4 = 24 7 * 4 = 28 8 * 4 = 32 9 * 4 = 36 \n",
            "2 * 5 = 10 3 * 5 = 15 4 * 5 = 20 5 * 5 = 25 6 * 5 = 30 7 * 5 = 35 8 * 5 = 40 9 * 5 = 45 \n",
            "2 * 6 = 12 3 * 6 = 18 4 * 6 = 24 5 * 6 = 30 6 * 6 = 36 7 * 6 = 42 8 * 6 = 48 9 * 6 = 54 \n",
            "2 * 7 = 14 3 * 7 = 21 4 * 7 = 28 5 * 7 = 35 6 * 7 = 42 7 * 7 = 49 8 * 7 = 56 9 * 7 = 63 \n",
            "2 * 8 = 16 3 * 8 = 24 4 * 8 = 32 5 * 8 = 40 6 * 8 = 48 7 * 8 = 56 8 * 8 = 64 9 * 8 = 72 \n",
            "2 * 9 = 18 3 * 9 = 27 4 * 9 = 36 5 * 9 = 45 6 * 9 = 54 7 * 9 = 63 8 * 9 = 72 9 * 9 = 81 \n"
          ]
        }
      ],
      "source": [
        "a = range(2,10)\n",
        "b = range(1,10)\n",
        "\n",
        "for y in b :\n",
        "    for x in a :\n",
        "        print(x, \"*\", y, \"=\", str(x*y).rjust(2), end = \" \")\n",
        "    print()"
      ]
    },
    {
      "cell_type": "markdown",
      "id": "4f1a81ed",
      "metadata": {
        "id": "4f1a81ed"
      },
      "source": [
        "#### (문제 11)"
      ]
    },
    {
      "cell_type": "code",
      "execution_count": 32,
      "id": "59887d22",
      "metadata": {
        "id": "59887d22",
        "colab": {
          "base_uri": "https://localhost:8080/"
        },
        "outputId": "af1cd551-d9d0-4b4e-f81f-5889a3af2883"
      },
      "outputs": [
        {
          "output_type": "stream",
          "name": "stdout",
          "text": [
            "Input an integer: 3159\n",
            "★★★\n",
            "★\n",
            "★★★★★\n",
            "★★★★★★★★★\n"
          ]
        }
      ],
      "source": [
        "s_num = input(\"Input an integer: \")\n",
        "s_num = list(s_num)\n",
        "i = 0\n",
        "for i in s_num :\n",
        "    i = int(i)\n",
        "    print(\"★\" * i)"
      ]
    },
    {
      "cell_type": "markdown",
      "id": "c040421f",
      "metadata": {
        "id": "c040421f"
      },
      "source": [
        "#### (문제 12)"
      ]
    },
    {
      "cell_type": "code",
      "execution_count": 33,
      "id": "11b90757",
      "metadata": {
        "id": "11b90757",
        "colab": {
          "base_uri": "https://localhost:8080/"
        },
        "outputId": "10e7903f-edf5-45ea-feab-eb9e6b54eb1e"
      },
      "outputs": [
        {
          "output_type": "stream",
          "name": "stdout",
          "text": [
            "Enter a number: 7\n",
            "Enter a number: 2\n",
            "Enter a number: 9\n",
            "Enter a number: 3\n",
            "Enter a number: 5\n",
            "Enter a number: done\n",
            "\n",
            "[7.0, 2.0, 9.0, 3.0, 5.0]\n",
            "Average:  5.2\n",
            "Maximum:  9.0\n",
            "Minimum:  2.0\n"
          ]
        }
      ],
      "source": [
        "num_list = list()\n",
        "while True:\n",
        "    num = input(\"Enter a number: \")\n",
        "    if num == 'done':\n",
        "        break\n",
        "    num_list.append(num)\n",
        "num_list = list(map(float, num_list))\n",
        "print()\n",
        "print(num_list)\n",
        "print(\"Average: \",sum(num_list)/len(num_list))\n",
        "print(\"Maximum: \",max(num_list))\n",
        "print(\"Minimum: \",min(num_list))"
      ]
    },
    {
      "cell_type": "markdown",
      "id": "5870755a",
      "metadata": {
        "id": "5870755a"
      },
      "source": [
        "### 3. 리스트 관련 함수 - 추가"
      ]
    },
    {
      "cell_type": "code",
      "execution_count": 34,
      "id": "f3d6ba6b",
      "metadata": {
        "id": "f3d6ba6b",
        "colab": {
          "base_uri": "https://localhost:8080/"
        },
        "outputId": "88175742-cf53-464d-b59f-2daf9474d402"
      },
      "outputs": [
        {
          "output_type": "execute_result",
          "data": {
            "text/plain": [
              "[2021, 8, 18]"
            ]
          },
          "metadata": {},
          "execution_count": 34
        }
      ],
      "source": [
        "before = ['2021', '08', '18']\n",
        "after = list(map(int,before))\n",
        "after"
      ]
    }
  ],
  "metadata": {
    "kernelspec": {
      "display_name": "Python 3",
      "language": "python",
      "name": "python3"
    },
    "language_info": {
      "codemirror_mode": {
        "name": "ipython",
        "version": 3
      },
      "file_extension": ".py",
      "mimetype": "text/x-python",
      "name": "python",
      "nbconvert_exporter": "python",
      "pygments_lexer": "ipython3",
      "version": "3.8.8"
    },
    "colab": {
      "name": "HW2.ipynb",
      "provenance": [],
      "collapsed_sections": [],
      "include_colab_link": true
    }
  },
  "nbformat": 4,
  "nbformat_minor": 5
}
