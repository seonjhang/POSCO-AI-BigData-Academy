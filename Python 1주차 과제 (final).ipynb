{
 "cells": [
  {
   "cell_type": "markdown",
   "id": "ae798b3c",
   "metadata": {},
   "source": [
    "# [파이썬 프로그래밍 프로젝트]"
   ]
  },
  {
   "cell_type": "markdown",
   "id": "5eb653f2",
   "metadata": {},
   "source": [
    "## 성적 관리 프로그램"
   ]
  },
  {
   "cell_type": "markdown",
   "id": "c6f2f442",
   "metadata": {},
   "source": [
    "##### (문제)\n",
    "파일로부터 데이터를 읽어서 성적 목록을 만들어 관리하는 성적 관리 프로그램을 작성한다."
   ]
  },
  {
   "cell_type": "code",
   "execution_count": 3,
   "id": "ee842bb0",
   "metadata": {},
   "outputs": [
    {
     "name": "stdout",
     "output_type": "stream",
     "text": [
      "Enter a file name: students.txt\n"
     ]
    },
    {
     "ename": "AttributeError",
     "evalue": "module 'sys' has no attribute 'arg'",
     "output_type": "error",
     "traceback": [
      "\u001b[1;31m---------------------------------------------------------------------------\u001b[0m",
      "\u001b[1;31mAttributeError\u001b[0m                            Traceback (most recent call last)",
      "\u001b[1;32m<ipython-input-3-de0f2723a6e8>\u001b[0m in \u001b[0;36m<module>\u001b[1;34m\u001b[0m\n\u001b[0;32m      3\u001b[0m \u001b[1;33m\u001b[0m\u001b[0m\n\u001b[0;32m      4\u001b[0m \u001b[1;32mimport\u001b[0m \u001b[0msys\u001b[0m\u001b[1;33m\u001b[0m\u001b[1;33m\u001b[0m\u001b[0m\n\u001b[1;32m----> 5\u001b[1;33m \u001b[0margs\u001b[0m \u001b[1;33m=\u001b[0m \u001b[0msys\u001b[0m\u001b[1;33m.\u001b[0m\u001b[0marg\u001b[0m\u001b[1;33m[\u001b[0m\u001b[1;33m:\u001b[0m\u001b[1;33m]\u001b[0m\u001b[1;33m\u001b[0m\u001b[1;33m\u001b[0m\u001b[0m\n\u001b[0m\u001b[0;32m      6\u001b[0m \u001b[1;32mif\u001b[0m \u001b[0mlen\u001b[0m\u001b[1;33m(\u001b[0m\u001b[0margs\u001b[0m\u001b[1;33m)\u001b[0m \u001b[1;33m>\u001b[0m\u001b[1;36m1\u001b[0m\u001b[1;33m:\u001b[0m\u001b[1;33m\u001b[0m\u001b[1;33m\u001b[0m\u001b[0m\n\u001b[0;32m      7\u001b[0m     \u001b[0msrc\u001b[0m \u001b[1;33m=\u001b[0m \u001b[0margs\u001b[0m\u001b[1;33m[\u001b[0m\u001b[1;36m1\u001b[0m\u001b[1;33m]\u001b[0m\u001b[1;33m\u001b[0m\u001b[1;33m\u001b[0m\u001b[0m\n",
      "\u001b[1;31mAttributeError\u001b[0m: module 'sys' has no attribute 'arg'"
     ]
    }
   ],
   "source": [
    "import os\n",
    "filename = input(\"Enter a file name: \")\n",
    "\n",
    "import sys\n",
    "args = sys.arg[:]\n",
    "if len(args) >1:\n",
    "    src = args[1]\n",
    "else:\n",
    "    src = \"students.txt\"\n",
    "    \n",
    "if os.path.exists(filename):\n",
    "    infile = open(filename, \"r\")\n",
    "    \n",
    "    #성 + 이름 합치기\n",
    "    stu_list = []\n",
    "    \n",
    "    for line in infile:\n",
    "        L = line.split() \n",
    "        revised = (L[1] + ' ' + L[2])  \n",
    "        new_L = [L[0], revised, L[3], L[4]]\n",
    "        \n",
    "        stu_list += [new_L]\n",
    "\n",
    "    i = 0\n",
    "    for i in range(len(stu_list)):\n",
    "        a = (int(stu_list[i][2]) + int(stu_list[i][3]))/2\n",
    "        stu_list[i].append(a)\n",
    "        i += 1\n",
    "    \n",
    "    def average(m, f):\n",
    "        return (m + f) / 2\n",
    "\n",
    "    def grade(avg):\n",
    "        if avg >= 90:\n",
    "            grade = \"A\"\n",
    "        elif 80 <= avg < 90:\n",
    "            grade = \"B\"\n",
    "        elif 70 <= avg < 80:\n",
    "            grade = \"C\"\n",
    "        elif 60 <= avg < 70:\n",
    "            grade = \"D\"\n",
    "        else:\n",
    "            grade = \"F\"\n",
    "\n",
    "        return grade\n",
    "    \n",
    "    \n",
    "    i = 0\n",
    "    for i in range(len(stu_list)):\n",
    "        b = grade(stu_list[i][4])\n",
    "        stu_list[i].append(b)\n",
    "        i += 1\n",
    "        \n",
    "    stu_list.sort(key=lambda e : e[4], reverse = True)\n",
    "    \n",
    "else:\n",
    "    print(\"%s file dese not exists\\n\" % filename)        "
   ]
  },
  {
   "cell_type": "code",
   "execution_count": 1,
   "id": "4f4da765",
   "metadata": {},
   "outputs": [
    {
     "name": "stdout",
     "output_type": "stream",
     "text": [
      "# show\n",
      "  Student   \t Name       Midterm    Final   Average Grade\n",
      "-----------------------------------------------------------------\n"
     ]
    },
    {
     "ename": "NameError",
     "evalue": "name 'stu_list' is not defined",
     "output_type": "error",
     "traceback": [
      "\u001b[1;31m---------------------------------------------------------------------------\u001b[0m",
      "\u001b[1;31mNameError\u001b[0m                                 Traceback (most recent call last)",
      "\u001b[1;32m<ipython-input-1-ffb590fa2806>\u001b[0m in \u001b[0;36m<module>\u001b[1;34m\u001b[0m\n\u001b[0;32m     16\u001b[0m     \u001b[1;32mreturn\u001b[0m\u001b[1;33m\u001b[0m\u001b[1;33m\u001b[0m\u001b[0m\n\u001b[0;32m     17\u001b[0m \u001b[1;33m\u001b[0m\u001b[0m\n\u001b[1;32m---> 18\u001b[1;33m \u001b[0mshow\u001b[0m\u001b[1;33m(\u001b[0m\u001b[1;33m)\u001b[0m\u001b[1;33m\u001b[0m\u001b[1;33m\u001b[0m\u001b[0m\n\u001b[0m",
      "\u001b[1;32m<ipython-input-1-ffb590fa2806>\u001b[0m in \u001b[0;36mshow\u001b[1;34m()\u001b[0m\n\u001b[0;32m      6\u001b[0m     \u001b[0mprint\u001b[0m\u001b[1;33m(\u001b[0m\u001b[1;34m\"  Student   \\t Name       Midterm    Final   Average Grade\"\u001b[0m\u001b[1;33m)\u001b[0m\u001b[1;33m\u001b[0m\u001b[1;33m\u001b[0m\u001b[0m\n\u001b[0;32m      7\u001b[0m     \u001b[0mprint\u001b[0m\u001b[1;33m(\u001b[0m\u001b[1;34m'-'\u001b[0m\u001b[1;33m*\u001b[0m\u001b[1;36m65\u001b[0m\u001b[1;33m)\u001b[0m\u001b[1;33m\u001b[0m\u001b[1;33m\u001b[0m\u001b[0m\n\u001b[1;32m----> 8\u001b[1;33m     \u001b[0mstu_list\u001b[0m\u001b[1;33m.\u001b[0m\u001b[0msort\u001b[0m\u001b[1;33m(\u001b[0m\u001b[0mkey\u001b[0m\u001b[1;33m=\u001b[0m\u001b[1;32mlambda\u001b[0m \u001b[0me\u001b[0m \u001b[1;33m:\u001b[0m \u001b[0me\u001b[0m\u001b[1;33m[\u001b[0m\u001b[1;36m4\u001b[0m\u001b[1;33m]\u001b[0m\u001b[1;33m,\u001b[0m \u001b[0mreverse\u001b[0m \u001b[1;33m=\u001b[0m \u001b[1;32mTrue\u001b[0m\u001b[1;33m)\u001b[0m\u001b[1;33m\u001b[0m\u001b[1;33m\u001b[0m\u001b[0m\n\u001b[0m\u001b[0;32m      9\u001b[0m \u001b[1;33m\u001b[0m\u001b[0m\n\u001b[0;32m     10\u001b[0m     \u001b[1;32mfor\u001b[0m \u001b[0mstu\u001b[0m \u001b[1;32min\u001b[0m \u001b[0mstu_list\u001b[0m\u001b[1;33m:\u001b[0m\u001b[1;33m\u001b[0m\u001b[1;33m\u001b[0m\u001b[0m\n",
      "\u001b[1;31mNameError\u001b[0m: name 'stu_list' is not defined"
     ]
    }
   ],
   "source": [
    "# show\n",
    "\n",
    "def show():\n",
    "    show = input(\"# \")\n",
    "\n",
    "    print(\"  Student   \\t Name       Midterm    Final   Average Grade\")\n",
    "    print('-'*65)\n",
    "    stu_list.sort(key=lambda e : e[4], reverse = True)\n",
    "\n",
    "    for stu in stu_list:\n",
    "        temp = str(stu[0])+'\\t'+str(stu[1])+'\\t'+str(stu[2])+'\\t'+str(stu[3])+'\\t'+str(stu[4])+'\\t'+str(stu[5])+'\\n'\n",
    "        print(temp)    \n",
    "    print()\n",
    "    print('#')\n",
    "    \n",
    "    return\n",
    "\n",
    "show()"
   ]
  },
  {
   "cell_type": "code",
   "execution_count": 27,
   "id": "f5aa8e7b",
   "metadata": {
    "scrolled": true
   },
   "outputs": [
    {
     "name": "stdout",
     "output_type": "stream",
     "text": [
      "# search\n",
      "Student ID: 20180001\n",
      "  Student   \t Name       Midterm    Final   Average Grade\n",
      "-----------------------------------------------------------------\n",
      "20180002\tLee Jieun\t92\t89\t90.5\tA\n",
      "\n",
      "20180009\tLee Yeonghee\t81\t84\t82.5\tB\n",
      "\n",
      "20180001\tHong Gildong\t84\t73\t78.5\tC\n",
      "\n",
      "20180011\tHa Donghun\t58\t68\t63.0\tD\n",
      "\n",
      "20180007\tKim Cheolsu\t57\t62\t59.5\tF\n",
      "\n"
     ]
    }
   ],
   "source": [
    "# search\n",
    "\n",
    "def search():\n",
    "    search = input(\"# \")\n",
    "    s_id = input(\"Student ID: \")\n",
    "    \n",
    "    i = 0\n",
    "\n",
    "    for i in range(len(stu_list)):\n",
    "        if stu_list[i][0] == s_id:\n",
    "            print(\"  Student   \\t Name       Midterm    Final   Average Grade\")\n",
    "            print('-'*65)\n",
    "            print(stu_list[i])\n",
    "#             for stu in stu_list:\n",
    "#                 temp = str(stu[0])+'\\t'+str(stu[1])+'\\t'+str(stu[2])+'\\t'+str(stu[3])+'\\t'+str(stu[4])+'\\t'+str(stu[5])+'\\n'\n",
    "#                 print(temp)    \n",
    "            i += 1\n",
    "        \n",
    "            return\n",
    "  \n",
    "    print(\"NO SUCH PERSON.\")\n",
    "\n",
    "    print()\n",
    "    print('#')\n",
    "    return\n",
    "\n",
    "search()"
   ]
  },
  {
   "cell_type": "code",
   "execution_count": 33,
   "id": "884cee61",
   "metadata": {},
   "outputs": [
    {
     "name": "stdout",
     "output_type": "stream",
     "text": [
      "# changescore\n",
      "Student ID: 20180001\n",
      "Mid/Final? mid\n",
      "input new score: 80\n",
      "  Student   \t Name       Midterm    Final   Average Grade\n",
      "-----------------------------------------------------------------\n",
      "20180002\tLee Jieun\t92\t89\t90.5\tA\n",
      "\n",
      "20180009\tLee Yeonghee\t81\t84\t82.5\tB\n",
      "\n",
      "20180001\tHong Gildong\t80\t73\t76.5\tC\n",
      "\n",
      "20180011\tHa Donghun\t58\t68\t63.0\tD\n",
      "\n",
      "20180007\tKim Cheolsu\t57\t62\t59.5\tF\n",
      "\n"
     ]
    }
   ],
   "source": [
    "#changescore (점수 수정)\n",
    "\n",
    "def changescore():\n",
    "    \n",
    "    change_score = input(\"# \")\n",
    "    s_id = input(\"Student ID: \")\n",
    "    \n",
    "    i = 0\n",
    "    for i in range(len(stu_list)):\n",
    "        if stu_list[i][0] == s_id:\n",
    "            score = input(\"Mid/Final? \")\n",
    "           \n",
    "            if score == \"mid\":\n",
    "                n_score = input(\"input new score: \")\n",
    "                if int(n_score) <= 100:\n",
    "                    a = int(n_score)\n",
    "                    avg = average(a, int(stu_list[i][3]))\n",
    "                    g =  str(grade(avg))\n",
    "\n",
    "                    stu_list[i][2] = a\n",
    "                    stu_list[i][4] = avg\n",
    "                    stu_list[i][5] = g\n",
    "                    \n",
    "                    print(\"  Student   \\t Name       Midterm    Final   Average Grade\")\n",
    "                    print('-'*65)\n",
    "                    \n",
    "                    for stu in stu_list:\n",
    "                        temp = str(stu[0])+'\\t'+str(stu[1])+'\\t'+str(stu[2])+'\\t'+str(stu[3])+'\\t'+str(stu[4])+'\\t'+str(stu[5])+'\\n'\n",
    "                        print(temp)                       \n",
    "\n",
    "                else:\n",
    "                    print(\"0~100 사이의 숫자를 입력하시오.\")\n",
    "                \n",
    "                return\n",
    "\n",
    "            elif score == \"final\":\n",
    "                n_score = input(\"input new score: \")\n",
    "                if int(n_score) <= 100:\n",
    "                    b = int(n_score)\n",
    "                    avg = average(int(stu_list[i][3]), b)\n",
    "                    g = str(grade(avg))\n",
    "\n",
    "                    stu_list[i][3] = b\n",
    "                    stu_list[i][4] = avg\n",
    "                    stu_list[i][5] = g\n",
    "                    \n",
    "                    print(\"  Student   \\t Name       Midterm    Final   Average Grade\")\n",
    "                    print('-'*65)\n",
    "                    \n",
    "                    for stu in stu_list:\n",
    "                        temp = str(stu[0])+'\\t'+str(stu[1])+'\\t'+str(stu[2])+'\\t'+str(stu[3])+'\\t'+str(stu[4])+'\\t'+str(stu[5])+'\\n'\n",
    "                        print(temp)                       \n",
    "\n",
    "                    return\n",
    "                \n",
    "            else:\n",
    "                print(\"오타를 확인하시오.\")\n",
    "                \n",
    "                return\n",
    "            \n",
    "            \n",
    "    \n",
    "    \n",
    "    print(\"NO SUCH PERSON.\")\n",
    "    \n",
    "\n",
    "changescore()"
   ]
  },
  {
   "cell_type": "code",
   "execution_count": null,
   "id": "94f3a235",
   "metadata": {},
   "outputs": [],
   "source": [
    "# add (학생 추가)\n",
    "\n",
    "def add():\n",
    "    \n",
    "    add = input(\"# \")\n",
    "    s_id = input(\"Student ID: \")\n",
    "    \n",
    "    i = 0\n",
    "    for i in range(len(stu_list)):\n",
    "        if stu_list[i][0] == s_id:\n",
    "            i += 1\n",
    "            print(\"ALREADY EXISTS.\")\n",
    "            return\n",
    "\n",
    "    name = input(\"Name: \")\n",
    "    m = int(input(\"Midterm Score: \"))\n",
    "    f = int(input(\"Final Score: \"))\n",
    "    a  = [s_id, name, m, f, average(m,f), grade(average(m,f))]\n",
    "    stu_list.extend([a])\n",
    "    print(\"Student added.\")\n",
    "\n",
    "add()"
   ]
  },
  {
   "cell_type": "code",
   "execution_count": null,
   "id": "5787572e",
   "metadata": {},
   "outputs": [],
   "source": [
    "# searchgrade (Grade 검색)\n",
    "\n",
    "def search_g():\n",
    "    search_g = input(\"Grade to search: \")\n",
    "\n",
    "    if search_g not in ['A', 'B', 'C', 'D', 'F']:\n",
    "        print(\"오타를 확인하시오.\")\n",
    "        \n",
    "        return\n",
    "    \n",
    "    result = False\n",
    "    for stu in stu_list:\n",
    "        if stu[5] == search_g:\n",
    "            result = True\n",
    "            print(stu)\n",
    "            \n",
    "    if result == False:        \n",
    "        print(\"NO RESULTS.\")\n",
    "            \n",
    "            \n",
    "search_g()\n",
    "\n",
    "#제대로 입력시\n",
    "\n",
    "#A/B/C/D/F 외의 값 입력시\n",
    "\n",
    "#해당 grade의 학생이 없는 경우\n"
   ]
  },
  {
   "cell_type": "code",
   "execution_count": 34,
   "id": "706e859b",
   "metadata": {},
   "outputs": [
    {
     "name": "stdout",
     "output_type": "stream",
     "text": [
      "# remove\n",
      "Student ID: 20180001\n",
      "Student removed.\n"
     ]
    }
   ],
   "source": [
    "# REMOVE (특정 학생 삭제)\n",
    "\n",
    "def remove():\n",
    "    \n",
    "    remove = input(\"# \")\n",
    "    s_id = input(\"Student ID: \")\n",
    "    \n",
    "    if not stu_list:\n",
    "        print(\"List is empty.\")\n",
    "\n",
    "    for stu in stu_list:\n",
    "        if stu[0] == s_id:\n",
    "            stu_list.remove(stu)\n",
    "            print(\"Student removed.\")\n",
    "            return\n",
    "        \n",
    "    print(\"NO SUCH PERSON.\")\n",
    "     \n",
    "remove()\n",
    "    \n",
    "# 목록에 아무도 없을 경우 \"List is emtpy.\" 메시지 출력"
   ]
  },
  {
   "cell_type": "code",
   "execution_count": 35,
   "id": "c5c872a1",
   "metadata": {},
   "outputs": [
    {
     "name": "stdout",
     "output_type": "stream",
     "text": [
      "# show\n",
      "  Student   \t Name       Midterm    Final   Average Grade\n",
      "-----------------------------------------------------------------\n",
      "20180002\tLee Jieun\t92\t89\t90.5\tA\n",
      "\n",
      "20180009\tLee Yeonghee\t81\t84\t82.5\tB\n",
      "\n",
      "20180011\tHa Donghun\t58\t68\t63.0\tD\n",
      "\n",
      "20180007\tKim Cheolsu\t57\t62\t59.5\tF\n",
      "\n",
      "\n",
      "#\n"
     ]
    }
   ],
   "source": [
    "show()"
   ]
  },
  {
   "cell_type": "code",
   "execution_count": null,
   "id": "a859b00f",
   "metadata": {},
   "outputs": [],
   "source": [
    "# quit (종료)\n",
    "\n",
    "def quit():\n",
    "\n",
    "    quit = input(\"# \")\n",
    "    save = input(\"Save data? [yes/no]\")\n",
    "\n",
    "    if save == 'yes':\n",
    "        filename = input(\"File name: \")\n",
    "        fw = open(filename, \"w\")\n",
    "        stu_list.sort(key=lambda e : e[4], reverse = True)\n",
    "\n",
    "        for stu in stu_list:\n",
    "            temp = str(stu[0])+'\\t'+str(stu[1])+'\\t'+str(stu[2])+'\\t'+str(stu[3])+'\\t'+str(stu[4])+'\\t'+str(stu[5])+'\\n'\n",
    "            fw.write(temp)\n",
    "        \n",
    "        fw.close()\n",
    "\n",
    "    elif save == 'no':\n",
    "        return\n",
    "\n",
    "quit()    "
   ]
  }
 ],
 "metadata": {
  "kernelspec": {
   "display_name": "Python 3",
   "language": "python",
   "name": "python3"
  },
  "language_info": {
   "codemirror_mode": {
    "name": "ipython",
    "version": 3
   },
   "file_extension": ".py",
   "mimetype": "text/x-python",
   "name": "python",
   "nbconvert_exporter": "python",
   "pygments_lexer": "ipython3",
   "version": "3.8.8"
  }
 },
 "nbformat": 4,
 "nbformat_minor": 5
}
