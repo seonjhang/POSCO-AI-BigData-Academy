{
  "cells": [
    {
      "cell_type": "markdown",
      "metadata": {
        "id": "view-in-github",
        "colab_type": "text"
      },
      "source": [
        "<a href=\"https://colab.research.google.com/github/seonjhang/POSCO-AI-BigData-Academy/blob/main/day3%20-%20HW3.ipynb\" target=\"_parent\"><img src=\"https://colab.research.google.com/assets/colab-badge.svg\" alt=\"Open In Colab\"/></a>"
      ]
    },
    {
      "cell_type": "markdown",
      "id": "f5798f1c",
      "metadata": {
        "id": "f5798f1c"
      },
      "source": [
        "# 파이썬 프로그래밍 기초 실습 3"
      ]
    },
    {
      "cell_type": "markdown",
      "id": "b379ac87",
      "metadata": {
        "id": "b379ac87"
      },
      "source": [
        "### 1. 딕셔너리(dict)"
      ]
    },
    {
      "cell_type": "markdown",
      "id": "c3772208",
      "metadata": {
        "id": "c3772208"
      },
      "source": [
        "#### 실습1)"
      ]
    },
    {
      "cell_type": "code",
      "execution_count": null,
      "id": "604839bc",
      "metadata": {
        "id": "604839bc",
        "outputId": "aab1c236-1d85-4454-a4ee-c23bd0bbf8e9"
      },
      "outputs": [
        {
          "name": "stdout",
          "output_type": "stream",
          "text": [
            "1 2 10 "
          ]
        }
      ],
      "source": [
        "d = {'youn':1, 'park':2, 'kim':10}\n",
        "for i in d :\n",
        "    print(d[i], end =' ')"
      ]
    },
    {
      "cell_type": "markdown",
      "id": "b21a8160",
      "metadata": {
        "id": "b21a8160"
      },
      "source": [
        "#### 실습2)"
      ]
    },
    {
      "cell_type": "code",
      "execution_count": null,
      "id": "0799ae3d",
      "metadata": {
        "id": "0799ae3d",
        "outputId": "d4ca6d22-5b4c-4a34-8495-bb3a397c9622"
      },
      "outputs": [
        {
          "name": "stdout",
          "output_type": "stream",
          "text": [
            "five 5\n",
            "four 4\n",
            "one 1\n",
            "three 3\n",
            "two 2\n"
          ]
        }
      ],
      "source": [
        "a = {'one':1, 'two':2, 'three':3, 'four':4, 'five':5}\n",
        "key = a.keys\n",
        "value = a.values\n",
        "\n",
        "for key, value in sorted(a.items()) :\n",
        "    print(key, value)"
      ]
    },
    {
      "cell_type": "markdown",
      "id": "a6624413",
      "metadata": {
        "id": "a6624413"
      },
      "source": [
        "#### 실습3)"
      ]
    },
    {
      "cell_type": "code",
      "execution_count": null,
      "id": "98e7089b",
      "metadata": {
        "id": "98e7089b",
        "outputId": "16cbe8fc-c55e-4846-a8d5-098be2b86030"
      },
      "outputs": [
        {
          "name": "stdout",
          "output_type": "stream",
          "text": [
            "Enter a sentecne: Python is fun!\n",
            "{'P': 1, 'y': 1, 't': 1, 'h': 1, 'o': 1, 'n': 2, ' ': 2, 'i': 1, 's': 1, 'f': 1, 'u': 1, '!': 1}\n"
          ]
        }
      ],
      "source": [
        "sen = input(\"Enter a sentecne: \")\n",
        "c = {}\n",
        "n = 0\n",
        "\n",
        "for i in sen:\n",
        "    if i not in c :\n",
        "        n += 1\n",
        "        c[i] = n\n",
        "        n = 0\n",
        "        \n",
        "    else :\n",
        "        c[i] += 1\n",
        "print(c)"
      ]
    }
  ],
  "metadata": {
    "kernelspec": {
      "display_name": "Python 3",
      "language": "python",
      "name": "python3"
    },
    "language_info": {
      "codemirror_mode": {
        "name": "ipython",
        "version": 3
      },
      "file_extension": ".py",
      "mimetype": "text/x-python",
      "name": "python",
      "nbconvert_exporter": "python",
      "pygments_lexer": "ipython3",
      "version": "3.8.8"
    },
    "colab": {
      "name": "HW3.ipynb",
      "provenance": [],
      "include_colab_link": true
    }
  },
  "nbformat": 4,
  "nbformat_minor": 5
}
