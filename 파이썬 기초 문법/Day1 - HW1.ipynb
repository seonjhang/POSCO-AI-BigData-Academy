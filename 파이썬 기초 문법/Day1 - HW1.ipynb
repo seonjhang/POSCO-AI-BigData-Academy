{
  "cells": [
    {
      "cell_type": "markdown",
      "metadata": {
        "id": "view-in-github",
        "colab_type": "text"
      },
      "source": [
        "<a href=\"https://colab.research.google.com/github/seonjhang/POSCO-AI-BigData-Academy/blob/main/HW1.ipynb\" target=\"_parent\"><img src=\"https://colab.research.google.com/assets/colab-badge.svg\" alt=\"Open In Colab\"/></a>"
      ]
    },
    {
      "cell_type": "markdown",
      "id": "8c6e967d",
      "metadata": {
        "id": "8c6e967d"
      },
      "source": [
        "# 파이썬 프로그래밍 기초 실습1"
      ]
    },
    {
      "cell_type": "markdown",
      "id": "b1356ea5",
      "metadata": {
        "id": "b1356ea5"
      },
      "source": [
        "### 1. 연습문제"
      ]
    },
    {
      "cell_type": "markdown",
      "id": "5cdd1b5e",
      "metadata": {
        "id": "5cdd1b5e"
      },
      "source": [
        "#### (문제 1) PPT(실습 문제1)\n",
        "화씨온도(℉)를 입력 받아서 섭씨온도로 바꾸는 프로그램을 작성하시오.\n",
        "\n",
        "C = (F - 32) * 5/9"
      ]
    },
    {
      "cell_type": "code",
      "execution_count": null,
      "id": "4aa3d013",
      "metadata": {
        "id": "4aa3d013",
        "outputId": "709ad3ed-0d8f-45b9-886e-82bdcf5bbd80"
      },
      "outputs": [
        {
          "name": "stdout",
          "output_type": "stream",
          "text": [
            "화씨온도: 100\n",
            "섭씨온도: 37.78\n"
          ]
        }
      ],
      "source": [
        "F = input('화씨온도: ')\n",
        "F = int(F)\n",
        "C = (F - 32) * (5 / 9)\n",
        "print('섭씨온도: %.2f' %C)"
      ]
    },
    {
      "cell_type": "markdown",
      "id": "6c9cb9b4",
      "metadata": {
        "id": "6c9cb9b4"
      },
      "source": [
        "#### (문제 2) 자동 판매기 프로그램 - PPT(실습 문제2)\n",
        "사용자로부터 투입한 돈과 물건 값을 입력 받아, 잔돈을 계산하여 출력한다. 단, 동전의 개수는 최소화 할 것\n",
        "\n",
        "(가정)\n",
        "- 물건 값은 100원 단위\n",
        "- 자판기의 동전은 500원, 100원만 있음"
      ]
    },
    {
      "cell_type": "code",
      "execution_count": null,
      "id": "1201bdae",
      "metadata": {
        "id": "1201bdae",
        "outputId": "875547b6-bd16-4250-85dd-291dc8ae37fe"
      },
      "outputs": [
        {
          "name": "stdout",
          "output_type": "stream",
          "text": [
            "투입한 돈: 5000\n",
            "물건값: 2700\n",
            "거스름돈: 2300\n",
            "500원짜리: 4개\n",
            "100원짜리: 3개\n"
          ]
        }
      ],
      "source": [
        "money = input(\"투입한 돈: \")\n",
        "money = int(money)\n",
        "cost = input(\"물건값: \")\n",
        "cost = int(cost)\n",
        "_return = money - cost\n",
        "print('거스름돈: %d' %_return)\n",
        "\n",
        "_500 = _return // 500\n",
        "_100 = (_return-_500 * 500) // 100\n",
        "print('500원짜리: %d개' %(_500))\n",
        "print('100원짜리: %d개' %(_100))"
      ]
    },
    {
      "cell_type": "markdown",
      "id": "3e57c35c",
      "metadata": {
        "id": "3e57c35c"
      },
      "source": [
        "#### (문제 3)\n",
        "원의 반지름 r을 입력 받아, 원의 둘레와 넓이를 구하는 프로그램을 작성하시오.\n",
        "\n",
        "- 원 둘레: 2πr (단, π는 3.141592)\n",
        "- 원 넓이: πr²"
      ]
    },
    {
      "cell_type": "code",
      "execution_count": null,
      "id": "d4fec944",
      "metadata": {
        "id": "d4fec944",
        "outputId": "2310ec37-3b9f-4730-b906-35468c92b30d"
      },
      "outputs": [
        {
          "name": "stdout",
          "output_type": "stream",
          "text": [
            "반지름을 입력하시오: 5\n",
            "원 둘레: 31.42\n",
            "원 넓이: 78.54\n"
          ]
        }
      ],
      "source": [
        "r = input(\"반지름을 입력하시오: \")\n",
        "r = int(r)\n",
        "\n",
        "# 둘레 c(circumference), 넓이 a(area)\n",
        "\n",
        "pi = 3.141592\n",
        "c = 2 * pi * r\n",
        "a = pi * r ** 2\n",
        "\n",
        "print('원 둘레: %.2f' %c)\n",
        "print('원 넓이: %.2f' %a)"
      ]
    },
    {
      "cell_type": "markdown",
      "id": "62439fe7",
      "metadata": {
        "id": "62439fe7"
      },
      "source": [
        "#### (문제 4)\n",
        "2개의 정수를 입력 받아, 사칙연산 및 나머지 연산의 결과를 아래와 같이 출력하는 프로그램을 작성하시오."
      ]
    },
    {
      "cell_type": "code",
      "execution_count": null,
      "id": "7d14150b",
      "metadata": {
        "id": "7d14150b",
        "outputId": "a48366ea-9249-4c82-e773-ca927d03a3bd"
      },
      "outputs": [
        {
          "name": "stdout",
          "output_type": "stream",
          "text": [
            "Enter two integers: 8 5\n",
            "8 + 5 = 13\n",
            "8 - 5 = 3\n",
            "8 * 5 = 40\n",
            "8 / 5 = 1.6\n",
            "8 % 5 = 3\n"
          ]
        }
      ],
      "source": [
        "a, b = input('Enter two integers: ').split() #입력받은 값을 공백을 기준으로 분리\n",
        "a = int(a)\n",
        "b = int(b)\n",
        "\n",
        "print(a, '+', b, '=', a + b)\n",
        "print(a, '-', b, '=', a - b)\n",
        "print(a, '*', b, '=', a * b)\n",
        "print(a, '/', b, '=', a / b)\n",
        "print(a, '%', b, '=', a % b)"
      ]
    },
    {
      "cell_type": "markdown",
      "id": "e94e5207",
      "metadata": {
        "id": "e94e5207"
      },
      "source": [
        "#### (문제 5)\n",
        "두 정수를 입력 받아, 합과 평균을 구하여 출력하는 프로그램을 작성하시오."
      ]
    },
    {
      "cell_type": "code",
      "execution_count": null,
      "id": "b3dca9a7",
      "metadata": {
        "id": "b3dca9a7",
        "outputId": "5a220760-cf5e-44d5-f513-8828ed55e34a"
      },
      "outputs": [
        {
          "name": "stdout",
          "output_type": "stream",
          "text": [
            "Enter two intergers: 70 91\n",
            "The sum of 70 and 91 is 161\n",
            "The average of numbers is 80.5\n"
          ]
        }
      ],
      "source": [
        "c, d = input('Enter two intergers: ').split()\n",
        "c = int(c)\n",
        "d = int(d)\n",
        "\n",
        "print('The sum of %d and %d is %d' %(c, d, c + d))\n",
        "print('The average of numbers is %.1f' %((c + d)/2))"
      ]
    },
    {
      "cell_type": "markdown",
      "id": "00d6089d",
      "metadata": {
        "id": "00d6089d"
      },
      "source": [
        "#### (문제 6) PPT(실습문제4)\n",
        "아래의 실행예제를 참고하여 프로그램을 작성하라."
      ]
    },
    {
      "cell_type": "code",
      "execution_count": null,
      "id": "433460ef",
      "metadata": {
        "id": "433460ef",
        "outputId": "d9b68776-c9ed-472f-c225-03aafa6692c9"
      },
      "outputs": [
        {
          "name": "stdout",
          "output_type": "stream",
          "text": [
            "날짜(연/월/일)입력: 2021/10/08\n",
            "입력한 날짜의 10년 후는 2031년 10월 08일\n"
          ]
        }
      ],
      "source": [
        "date = input('날짜(연/월/일)입력: ')\n",
        "year, month, day = date.split('/')\n",
        "\n",
        "year = int(year) + 10\n",
        "\n",
        "print('입력한 날짜의 10년 후는 %d년 %s월 %s일' %(year, month, day))"
      ]
    }
  ],
  "metadata": {
    "kernelspec": {
      "display_name": "Python 3",
      "language": "python",
      "name": "python3"
    },
    "language_info": {
      "codemirror_mode": {
        "name": "ipython",
        "version": 3
      },
      "file_extension": ".py",
      "mimetype": "text/x-python",
      "name": "python",
      "nbconvert_exporter": "python",
      "pygments_lexer": "ipython3",
      "version": "3.8.8"
    },
    "colab": {
      "name": "HW1.ipynb",
      "provenance": [],
      "collapsed_sections": [],
      "include_colab_link": true
    }
  },
  "nbformat": 4,
  "nbformat_minor": 5
}
