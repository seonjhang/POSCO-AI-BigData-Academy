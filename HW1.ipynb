{
 "cells": [
  {
   "cell_type": "markdown",
   "id": "8c6e967d",
   "metadata": {},
   "source": [
    "# 파이썬 프로그래밍 기초 실습1"
   ]
  },
  {
   "cell_type": "markdown",
   "id": "b1356ea5",
   "metadata": {},
   "source": [
    "### 1. 연습문제"
   ]
  },
  {
   "cell_type": "markdown",
   "id": "5cdd1b5e",
   "metadata": {},
   "source": [
    "#### (문제 1) PPT(실습 문제1)"
   ]
  },
  {
   "cell_type": "code",
   "execution_count": 1,
   "id": "4aa3d013",
   "metadata": {},
   "outputs": [
    {
     "name": "stdout",
     "output_type": "stream",
     "text": [
      "화씨온도: 100\n",
      "섭씨온도: 37.78\n"
     ]
    }
   ],
   "source": [
    "F = input('화씨온도: ')\n",
    "F = int(F)\n",
    "C = (F - 32) * (5 / 9)\n",
    "print('섭씨온도: %.2f' %C)"
   ]
  },
  {
   "cell_type": "markdown",
   "id": "6c9cb9b4",
   "metadata": {},
   "source": [
    "#### (문제 2) 자동 판매기 프로그램 - PPT(실습 문제2)"
   ]
  },
  {
   "cell_type": "code",
   "execution_count": 2,
   "id": "1201bdae",
   "metadata": {},
   "outputs": [
    {
     "name": "stdout",
     "output_type": "stream",
     "text": [
      "투입한 돈: 5000\n",
      "물건값: 2700\n",
      "거스름돈: 2300\n",
      "500원짜리: 4개\n",
      "100원짜리: 3개\n"
     ]
    }
   ],
   "source": [
    "money = input(\"투입한 돈: \")\n",
    "money = int(money)\n",
    "cost = input(\"물건값: \")\n",
    "cost = int(cost)\n",
    "_return = money - cost\n",
    "print('거스름돈: %d' %_return)\n",
    "\n",
    "_500 = _return // 500\n",
    "_100 = (_return-_500 * 500) // 100\n",
    "print('500원짜리: %d개' %(_500))\n",
    "print('100원짜리: %d개' %(_100))"
   ]
  },
  {
   "cell_type": "markdown",
   "id": "3e57c35c",
   "metadata": {},
   "source": [
    "#### (문제 3)"
   ]
  },
  {
   "cell_type": "code",
   "execution_count": 3,
   "id": "d4fec944",
   "metadata": {},
   "outputs": [
    {
     "name": "stdout",
     "output_type": "stream",
     "text": [
      "반지름을 입력하시오: 5\n",
      "원 둘레: 31.42\n",
      "원 넓이: 78.54\n"
     ]
    }
   ],
   "source": [
    "r = input(\"반지름을 입력하시오: \")\n",
    "r = int(r)\n",
    "\n",
    "# 둘레 c(circumference), 넓이 a(area)\n",
    "\n",
    "pi = 3.141592\n",
    "c = 2 * pi * r\n",
    "a = pi * r ** 2\n",
    "\n",
    "print('원 둘레: %.2f' %c)\n",
    "print('원 넓이: %.2f' %a)"
   ]
  },
  {
   "cell_type": "markdown",
   "id": "62439fe7",
   "metadata": {},
   "source": [
    "#### (문제 4)"
   ]
  },
  {
   "cell_type": "code",
   "execution_count": 4,
   "id": "7d14150b",
   "metadata": {},
   "outputs": [
    {
     "name": "stdout",
     "output_type": "stream",
     "text": [
      "Enter two integers: 8 5\n",
      "8 + 5 = 13\n",
      "8 - 5 = 3\n",
      "8 * 5 = 40\n",
      "8 / 5 = 1.6\n",
      "8 % 5 = 3\n"
     ]
    }
   ],
   "source": [
    "a, b = input('Enter two integers: ').split() #입력받은 값을 공백을 기준으로 분리\n",
    "a = int(a)\n",
    "b = int(b)\n",
    "\n",
    "print(a, '+', b, '=', a + b)\n",
    "print(a, '-', b, '=', a - b)\n",
    "print(a, '*', b, '=', a * b)\n",
    "print(a, '/', b, '=', a / b)\n",
    "print(a, '%', b, '=', a % b)"
   ]
  },
  {
   "cell_type": "markdown",
   "id": "e94e5207",
   "metadata": {},
   "source": [
    "#### (문제 5)"
   ]
  },
  {
   "cell_type": "code",
   "execution_count": 5,
   "id": "b3dca9a7",
   "metadata": {},
   "outputs": [
    {
     "name": "stdout",
     "output_type": "stream",
     "text": [
      "Enter two intergers: 70 91\n",
      "The sum of 70 and 91 is 161\n",
      "The average of numbers is 80.5\n"
     ]
    }
   ],
   "source": [
    "c, d = input('Enter two intergers: ').split()\n",
    "c = int(c)\n",
    "d = int(d)\n",
    "\n",
    "print('The sum of %d and %d is %d' %(c, d, c + d))\n",
    "print('The average of numbers is %.1f' %((c + d)/2))"
   ]
  },
  {
   "cell_type": "markdown",
   "id": "00d6089d",
   "metadata": {},
   "source": [
    "#### (문제 6) PPT(실습문제4)"
   ]
  },
  {
   "cell_type": "code",
   "execution_count": 2,
   "id": "433460ef",
   "metadata": {},
   "outputs": [
    {
     "name": "stdout",
     "output_type": "stream",
     "text": [
      "날짜(연/월/일)입력: 2021/10/08\n",
      "입력한 날짜의 10년 후는 2031년 10월 08일\n"
     ]
    }
   ],
   "source": [
    "date = input('날짜(연/월/일)입력: ')\n",
    "year, month, day = date.split('/')\n",
    "\n",
    "year = int(year) + 10\n",
    "\n",
    "print('입력한 날짜의 10년 후는 %d년 %s월 %s일' %(year, month, day))"
   ]
  }
 ],
 "metadata": {
  "kernelspec": {
   "display_name": "Python 3",
   "language": "python",
   "name": "python3"
  },
  "language_info": {
   "codemirror_mode": {
    "name": "ipython",
    "version": 3
   },
   "file_extension": ".py",
   "mimetype": "text/x-python",
   "name": "python",
   "nbconvert_exporter": "python",
   "pygments_lexer": "ipython3",
   "version": "3.8.8"
  }
 },
 "nbformat": 4,
 "nbformat_minor": 5
}
